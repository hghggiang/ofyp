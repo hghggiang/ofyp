{
 "cells": [
  {
   "cell_type": "code",
   "execution_count": 24,
   "metadata": {},
   "outputs": [],
   "source": [
    "import csv"
   ]
  },
  {
   "cell_type": "code",
   "execution_count": 25,
   "metadata": {},
   "outputs": [],
   "source": [
    "txtfile = open('obstacles_20', 'w+')\n",
    "csvfile = open('buildings.csv', 'r')\n",
    "readcsv = csv.reader(csvfile, delimiter=',')"
   ]
  },
  {
   "cell_type": "code",
   "execution_count": 26,
   "metadata": {},
   "outputs": [
    {
     "name": "stdout",
     "output_type": "stream",
     "text": [
      "['0', '11', '552971.315281', '4182405.8052', '552941.341998', '4182375.58197', '552920.622523', '4182396.1301', '552950.595807', '4182426.35332', '17.15', '0', '39.01']\n"
     ]
    }
   ],
   "source": [
    "next(readcsv)\n",
    "row1 = next(readcsv)\n",
    "print row1"
   ]
  },
  {
   "cell_type": "code",
   "execution_count": 27,
   "metadata": {},
   "outputs": [],
   "source": [
    "altitude = 258.49"
   ]
  },
  {
   "cell_type": "code",
   "execution_count": 32,
   "metadata": {},
   "outputs": [],
   "source": [
    "def write_to_txt():\n",
    "    for row in readcsv:\n",
    "        current_height = row[10]\n",
    "        print current_height\n",
    "        if current_height >= altitude:\n",
    "            x1 = row[2]\n",
    "            y1 = row[3]\n",
    "            txtfile.write('(' + x1 + ',' + y1 + ')' + ',')\n",
    "            x2 = row[4]\n",
    "            y2 = row[5]\n",
    "            txtfile.write('(' + x2 + ',' + y2 + ')' + ',')\n",
    "            x3 = row[6]\n",
    "            y3 = row[7]\n",
    "            txtfile.write('(' + x3 + ',' + y3 + ')' + ',')\n",
    "            x4 = row[8]\n",
    "            y4 = row[9]\n",
    "            txtfile.write('(' + x4 + ',' + y4 + ')' + ',')\n",
    "            txtfile.write('(' + x1 + ',' + y1 + ')' + '\\n')"
   ]
  },
  {
   "cell_type": "code",
   "execution_count": 33,
   "metadata": {},
   "outputs": [],
   "source": [
    "write_to_txt()"
   ]
  },
  {
   "cell_type": "code",
   "execution_count": 34,
   "metadata": {},
   "outputs": [],
   "source": [
    "txtfile.close()"
   ]
  },
  {
   "cell_type": "code",
   "execution_count": null,
   "metadata": {},
   "outputs": [],
   "source": []
  }
 ],
 "metadata": {
  "kernelspec": {
   "display_name": "Python 2",
   "language": "python",
   "name": "python2"
  },
  "language_info": {
   "codemirror_mode": {
    "name": "ipython",
    "version": 2
   },
   "file_extension": ".py",
   "mimetype": "text/x-python",
   "name": "python",
   "nbconvert_exporter": "python",
   "pygments_lexer": "ipython2",
   "version": "2.7.14"
  }
 },
 "nbformat": 4,
 "nbformat_minor": 2
}
